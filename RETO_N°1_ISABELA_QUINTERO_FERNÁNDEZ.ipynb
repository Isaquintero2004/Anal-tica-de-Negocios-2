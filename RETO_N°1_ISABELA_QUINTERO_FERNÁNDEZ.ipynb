{
  "nbformat": 4,
  "nbformat_minor": 0,
  "metadata": {
    "colab": {
      "provenance": [],
      "authorship_tag": "ABX9TyPwfraQrJglrua+4csGdsv6",
      "include_colab_link": true
    },
    "kernelspec": {
      "name": "python3",
      "display_name": "Python 3"
    },
    "language_info": {
      "name": "python"
    }
  },
  "cells": [
    {
      "cell_type": "markdown",
      "metadata": {
        "id": "view-in-github",
        "colab_type": "text"
      },
      "source": [
        "<a href=\"https://colab.research.google.com/github/Isaquintero2004/Anal-tica-de-Negocios-2/blob/main/RETO_N%C2%B01_ISABELA_QUINTERO_FERN%C3%81NDEZ.ipynb\" target=\"_parent\"><img src=\"https://colab.research.google.com/assets/colab-badge.svg\" alt=\"Open In Colab\"/></a>"
      ]
    },
    {
      "cell_type": "markdown",
      "source": [
        "# **RETO N°1: MODELO NAIVE BAYES (CLASIFICACIÓN)**\n",
        "De acuerdo con la base de datos Car Crash, seleccionar los datos para el condado de San Francisco. Predecir si un accidente automovilístico se provocó en una autopista o no (Highway). Para la predicción de los accidentes, es importante tener en cuenta las siguientes variables: Dia de la Semana (WeekDay), Nivel de Impacto (ViolCat), Cantidad de Luz Diurna, Mes, Crash Type (Convertir a Valor Numérico según el Orden Alfabético) y Cielo Despejado. El orden de las variables en las columnas se debe mantener como esta en el archivo de Excel.\n",
        "\n",
        "De acuerdo con la base de datos anterior, llevar a cabo en el análisis la descripción de cada una de las variables (tipo de datos, categorías), eliminando de plano los registros que poseen datos faltantes.   "
      ],
      "metadata": {
        "id": "l_tJeH7hydKe"
      }
    },
    {
      "cell_type": "markdown",
      "source": [
        "0. Se carga las librerias de trabajo"
      ],
      "metadata": {
        "id": "eOX36O0Uyz6P"
      }
    },
    {
      "cell_type": "code",
      "execution_count": null,
      "metadata": {
        "id": "tQgY5yqpyX9-"
      },
      "outputs": [],
      "source": [
        "import numpy as np #Funciones matemáticas\n",
        "import pandas as pd #Comunicación con excel"
      ]
    },
    {
      "cell_type": "markdown",
      "source": [
        "1. Se carga la base de datos"
      ],
      "metadata": {
        "id": "SlVDgxRQzANB"
      }
    },
    {
      "cell_type": "code",
      "source": [
        "nxl=\"/content/1. BD2_CarCrash_Int.xlsx\"\n",
        "XDB=pd.read_excel(nxl, sheet_name=0)\n",
        "\n",
        "#Filtramos los datos para solo obtener información de San Francisco\n",
        "san_francisco_data=XDB[XDB[\"County\"]==\"SAN FRANCISCO\"]\n",
        "san_francisco_data.dropna() #Eliminar datos faltantes, celdas vacías\n",
        "\n",
        "#Convertir \"CrashType\" a valores númericos\n",
        "san_francisco_data.loc[:,\"CrashType\"]=pd.Categorical(san_francisco_data[\"CrashType\"]).codes\n",
        "\n",
        "#Se cargan las variables de interés\n",
        "san_francisco_data=san_francisco_data[[\"Weekday\",\"ViolCat\",\"ClearWeather\",\"Month\",\"CrashType\",\"Highway\",\"Daylight\"]]\n",
        "\n",
        "#Separamos variables por entrada-salida\n",
        "XD=san_francisco_data[[\"Weekday\", \"ViolCat\", \"ClearWeather\", \"Month\", \"CrashType\", \"Daylight\"]] #Aquí variable de entrada\n",
        "yd=san_francisco_data[[\"Highway\"]].values.ravel() #Aquí variable de referencia\n",
        "\n",
        "#Imprimimos la base de datos\n",
        "print(san_francisco_data)\n"
      ],
      "metadata": {
        "colab": {
          "base_uri": "https://localhost:8080/"
        },
        "id": "WZFSIW8QzCKl",
        "outputId": "b034e267-12d6-4875-f185-c059b3d4b7fa"
      },
      "execution_count": null,
      "outputs": [
        {
          "output_type": "stream",
          "name": "stdout",
          "text": [
            "        Weekday  ViolCat  ClearWeather  Month CrashType  Highway  Daylight\n",
            "907           7        1             1      3         0        1         1\n",
            "1580          2        9             1      2         0        0         0\n",
            "1581          7        3             1      1         0        0         0\n",
            "1586          7        3             1      3         0        0         0\n",
            "1587          3        3             1      3         0        0         0\n",
            "...         ...      ...           ...    ...       ...      ...       ...\n",
            "112598        5       11             1      8         6        0         0\n",
            "112599        5       11             1      3         6        0         1\n",
            "112600        6       10             0      4         6        0         0\n",
            "112601        4       10             1      4         6        0         0\n",
            "112602        5       12             1      2         6        0         1\n",
            "\n",
            "[2081 rows x 7 columns]\n"
          ]
        }
      ]
    },
    {
      "cell_type": "markdown",
      "source": [
        "2. Implementamos el modelo de Naive Bayes"
      ],
      "metadata": {
        "id": "IuoFbRMLGiJN"
      }
    },
    {
      "cell_type": "code",
      "source": [
        "#Llamar al modelo Naive Bayes\n",
        "from sklearn.naive_bayes import GaussianNB\n",
        "\n",
        "mnb=GaussianNB()\n",
        "mnb.fit(XD,yd)\n",
        "\n",
        "#Se obtiene la información\n",
        "ct=mnb.class_count_\n",
        "print(\"Como están separados los datos: \\n\", ct)\n",
        "print(\"El total de los datos es: \\n\", len(XD))\n",
        "print(\"Los datos porcentualmente están divididos en: \\n\", ct/len(XD))\n",
        "\n",
        "#Se obtiene la información de los accidentes por categoría\n",
        "#Media\n",
        "u=mnb.theta_\n",
        "print(\"La media de los accidentes por categoría es: \\n\", u)\n",
        "\n",
        "#Desviación estándar\n",
        "std=mnb.var_  #Varianza es el valor elevado a la 2, para std hay que sacarle esa raíz\n",
        "std=np.sqrt(std)  #Desviación estándar\n",
        "print(\"La desviación estándar de los accidentes por categoría es: \\n\", std)\n",
        "\n",
        "#Valores superiores e inferiores de las categorias\n",
        "print(\"El limite superior de los valores: \\n\", u+std)\n",
        "print(\"El limite inferior de los valores: \\n\", u-std)\n",
        "\n",
        "#Para evaluar un solo accidente\n",
        "XS=[[5,1,1,3,4,0]]\n",
        "XS = pd.DataFrame(XS, columns=[\"Weekday\", \"ViolCat\", \"ClearWeather\", \"Month\", \"CrashType\", \"Daylight\"])\n",
        "mnb.predict(XS)\n",
        "print(\"La predicción para el accidente según los datos es: \\n\", mnb.predict(XS))"
      ],
      "metadata": {
        "colab": {
          "base_uri": "https://localhost:8080/"
        },
        "id": "0JnOyNY0GmBD",
        "outputId": "c1005728-9783-4576-931a-9414447b3842"
      },
      "execution_count": null,
      "outputs": [
        {
          "output_type": "stream",
          "name": "stdout",
          "text": [
            "Como están separados los datos: \n",
            " [1580.  501.]\n",
            "El total de los datos es: \n",
            " 2081\n",
            "Los datos porcentualmente están divididos en: \n",
            " [0.75925036 0.24074964]\n",
            "La media de los accidentes por categoría es: \n",
            " [[3.88417722 7.45696203 0.86265823 4.35189873 3.21772152 0.66265823]\n",
            " [3.9261477  4.1497006  0.79840319 6.69461078 2.27744511 0.62075848]]\n",
            "La desviación estándar de los accidentes por categoría es: \n",
            " [[1.95062542 3.52136997 0.34420782 2.3433645  1.87371962 0.47280262]\n",
            " [2.01603723 2.16198902 0.40119266 3.44163641 1.05765448 0.48519831]]\n",
            "El limite superior de los valores: \n",
            " [[ 5.83480263 10.978332    1.20686605  6.69526323  5.09144114  1.13546084]\n",
            " [ 5.94218494  6.31168962  1.19959585 10.13624719  3.33509959  1.10595679]]\n",
            "El limite inferior de los valores: \n",
            " [[1.9335518  3.93559205 0.51845041 2.00853424 1.3440019  0.18985561]\n",
            " [1.91011047 1.98771158 0.39721054 3.25297437 1.21979063 0.13556017]]\n",
            "La predicción para el accidente según los datos es: \n",
            " [0]\n"
          ]
        }
      ]
    },
    {
      "cell_type": "markdown",
      "source": [
        "3. **Matriz de confusión:** Se procede con la evaluación de desempeño del modelo. Para esto se utilizará la matriz de confusión, para mirar como un modelo de estos funciona o no funciona."
      ],
      "metadata": {
        "id": "DPol_qnaKPtO"
      }
    },
    {
      "cell_type": "code",
      "source": [
        "ydp=mnb.predict(XD) #Se obtiene la predicción de positivos y negativos\n",
        "\n",
        "#Matriz de confusión\n",
        "from sklearn.metrics import confusion_matrix\n",
        "cm=confusion_matrix(yd, ydp)\n",
        "print(\"La matriz de confusión es: \\n\", cm)\n",
        "\n",
        "VN=cm[0,0];FP=cm[0,1];FN=cm[1,0];VP=cm[1,1] #Enumeramos donde se encuentra cada variable\n",
        "\n",
        "#Tasa de exactitud\n",
        "Ex=(VN+VP)/(VP+VN+FP+FN) #En cuanto acierta\n",
        "print(\"La exactitud es: \\n\", Ex)\n",
        "\n",
        "#Tasa de error\n",
        "TE=(FP+FN)/(VP+VN+FP+FN) #En cuanto se equivoca\n",
        "print(\"La tasa de error es: \\n\", TE)\n",
        "\n",
        "#Tasa sensibilidad\n",
        "Sen=VP/(VP+FN) #Comportamiento de preaprobación créditos\n",
        "print(\"La sensibilidad es: \\n\", Sen)\n",
        "\n",
        "#Tasa especificidad\n",
        "Esp=VN/(VN+FP) #Comportamiento de preanegación créditos\n",
        "print(\"La especificidad es: \\n\", Esp)\n",
        "#El modelo es más bueno considerando los prenegados ya que es 84% en comparación con 63% de aprobados\n",
        "\n",
        "#Tasa de precisión\n",
        "Pre=VP/(VP+FP) #Comportamiento de identificación de preaprobación créditos\n",
        "print(\"La precisión es: \\n\", Pre)\n",
        "\n",
        "#Tasa de precisión negativa\n",
        "pren=VN/(VN+FN) #Comportamiento de identificación de preanegación créditos\n",
        "print(\"La precisión negativa es: \\n\", pren)"
      ],
      "metadata": {
        "colab": {
          "base_uri": "https://localhost:8080/"
        },
        "id": "UAF8fbY2KTXF",
        "outputId": "5db65cd2-24e3-421b-efb2-d33b868bef1f"
      },
      "execution_count": null,
      "outputs": [
        {
          "output_type": "stream",
          "name": "stdout",
          "text": [
            "La matriz de confusión es: \n",
            " [[1365  215]\n",
            " [ 224  277]]\n",
            "La exactitud es: \n",
            " 0.7890437289764536\n",
            "La tasa de error es: \n",
            " 0.21095627102354636\n",
            "La sensibilidad es: \n",
            " 0.5528942115768463\n",
            "La especificidad es: \n",
            " 0.8639240506329114\n",
            "La precisión es: \n",
            " 0.5630081300813008\n",
            "La precisión negativa es: \n",
            " 0.8590308370044053\n"
          ]
        }
      ]
    },
    {
      "cell_type": "markdown",
      "source": [
        "# **Análisis de resultados**\n",
        "De acuerdo con los resultados arrojados por el modelo, se pudo corrobar en la plataforma colab el comportamiento del modelo Naive Bayes de acuerdo con el archivo de excel de referencia acerca de los accidentes automovilísticos ocasionados en diferentes condados.\n",
        "\n",
        "Para comprender el proceso realizado, primero es importante tener una idea sobre la base de datos con la que se trabajó, la cual contiene el registro de un total de 112660 datos evaluados a partir de ocho variables, de las cuales para la realización del modelo de Naive Bayes se tomaron aquellas correspondientes al condado de San Francisco, al realizar el filtro del condado, el total de datos de la base de datos se redujo a 2081 como lo indica el modelo, los cuales fueron evaluados con seis de las ocho variables totales, las cuales son: **\"Weekday\"** corresponde al día de la semana en el que el accidente se desenvolvió, asignándole un puntaje de 1 a 7 respectivamente según el día, **\"ViolCat\"** que nos indica el nivel de impacto de dicho accidente en un rango de 1 a 12 según la severidad del mismo, **\"ClearWeather\"** es una variable que indica que tan despejado se encontraba el clima o el cielo calificándolo en 0 si no estaba despejado, y 1 si el cielo sí se encontraba despejado, **\"Month\"** en un rango de 1 a 12 que hace referencia a cada mes del año, **\"CrashType\"** para indicar el tipo de accidente que se presentó. En la base de datos original este es medido con letras de la A a la G, pero para motivos del modelo esta categorización fue cambiada a número comenzando desde el 0 para representar la A hasta el 6 para representar la G. Y por último, **\"Daylight\"** para indicar la cantidad de luz diurna al momento del accidente, calificándolo con valores entre 0 y 1 según el caso. Así mismo, como base de datos de referencia y para la predicción del modelo se usó la variable \"Highway\" la cual clasifica los datos en 0 si el accidente NO fue en una autopista (highway) o 1 si el accidente SÍ fue en una autopista (highway).\n",
        "\n",
        "Después de comprender el tipo de base de datos empleada podemos evaluar el modelo y los resultados:\n",
        "\n",
        "Aquí se puede observar que el modelo alcanzó una exactitud cercana al 80%, destacándose el comportamiento del modelo frente a la capacidad que tiene de predecir los accidentes NO ocasionados en la autopista (highway) con una especificidad del 86% en promedio, lo que se ve reforzado con una precisión negativa del 85,9%. Sin embargo, con una precisión cercana al 56% en promedio, el modelo muestra una baja capacidad predictiva frente a los accidentes que pueden ser generados en la autopista (highway), respaldada por la tasa de sensibilidad del 55,2%.\n",
        "\n",
        "En la base de datos se puede observar que los accidentes automovilísticos (Datos históricos) NO ocasionados en la autopista representan un total del 75,9% (1580 accidentes) de los accidentes totales mientras que los accidentes ocasionados en la autopista tiene un peso de 24% (501 accidentes) del total de los accidentes. Para realizar un análisis de la media obtenida en el modelo, tomaremos dos de las variables y explicaremos como entender dichos resultados para que se demuestre el entendimiento de los mismos:\n",
        "\n",
        "* **Weekday (Día de la semana):** Las medias son 3.88 para \"No Highway\" y 3.926 para \"Highway\". Son muy similares, lo que sugiere que el día de la semana no es un factor determinante para que un accidente ocurra en autopista o no. Esto implica que los accidentes se distribuyen de forma relativamente uniforme a lo largo de la semana en ambos tipos de vías.\n",
        "\n",
        "* **ViolCat (Nivel de impacto):** La media es 7.457 para \"No Highway\" y 4.15 para \"Highway\". Esta es una diferencia significativa. Indica que los accidentes que NO ocurren en autopista tienden a tener un nivel de impacto mayor.\n",
        "\n",
        "Con lo anterior, podemos tener una idea más clara de como el modelo de Naive Bayes es aplicado a una base de datos que indica accidentes automovilísticos para así tomar decisiones basadas en los resultados obtenidos, que puedan ser precisos y acertados según los datos presentados.\n",
        "\n"
      ],
      "metadata": {
        "id": "mypjirHZ_mMQ"
      }
    }
  ]
}