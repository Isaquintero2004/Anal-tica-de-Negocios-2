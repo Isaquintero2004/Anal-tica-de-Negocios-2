{
  "nbformat": 4,
  "nbformat_minor": 0,
  "metadata": {
    "colab": {
      "provenance": [],
      "authorship_tag": "ABX9TyNSmn8A96nuZhNY3dVdC9oh",
      "include_colab_link": true
    },
    "kernelspec": {
      "name": "python3",
      "display_name": "Python 3"
    },
    "language_info": {
      "name": "python"
    }
  },
  "cells": [
    {
      "cell_type": "markdown",
      "metadata": {
        "id": "view-in-github",
        "colab_type": "text"
      },
      "source": [
        "<a href=\"https://colab.research.google.com/github/Isaquintero2004/Anal-tica-de-Negocios-2/blob/main/RETO_N%C2%B02_ISABELA_QUINTERO_FERN%C3%81NDEZ.ipynb\" target=\"_parent\"><img src=\"https://colab.research.google.com/assets/colab-badge.svg\" alt=\"Open In Colab\"/></a>"
      ]
    },
    {
      "cell_type": "markdown",
      "source": [
        "# **RETO N°2: ÁRBOLES DE DECISIÓN**\n",
        "De acuerdo con la Base de Datos Tech Sales Report, implementar un modelo basado en los principios de los Árboles de Decisión para determinar si un empleado posee título universitario o no (College: Yes – 1, No - 0), tomando como referencia un total 8 variables socioeconómicas sin incluir la variable personalidad. Para la variable de \"Business\" tomar como Hardware:0 y para Software: 1.\n",
        "\n",
        "De acuerdo con lo anterior, llevar a cabo la caracterización de la base de datos, total de personas, número de personas inscritas y número de personas no escritas."
      ],
      "metadata": {
        "id": "VD21m36KSUYw"
      }
    },
    {
      "cell_type": "markdown",
      "source": [
        "0. Se procede con la carga de librerias de trabajo"
      ],
      "metadata": {
        "id": "_qr5WziNfXCj"
      }
    },
    {
      "cell_type": "code",
      "execution_count": null,
      "metadata": {
        "colab": {
          "base_uri": "https://localhost:8080/"
        },
        "id": "t1VIBPemSP0n",
        "outputId": "9084b1cc-2284-41ea-ce8d-9f28807163c3"
      },
      "outputs": [
        {
          "output_type": "stream",
          "name": "stdout",
          "text": [
            "Mounted at /content/drive\n"
          ]
        }
      ],
      "source": [
        "import numpy as np #para datos númericos, raíces y demás\n",
        "import pandas as pd #comunicación con el excel\n",
        "\n",
        "#Para los árboles de decisión: implementación y evaluación del modelo\n",
        "from sklearn.tree import DecisionTreeClassifier\n",
        "from sklearn.metrics import confusion_matrix\n",
        "\n",
        "#Para la carga automática de los archivos desde el Drive\n",
        "from google.colab import drive\n",
        "drive.mount('/content/drive')"
      ]
    },
    {
      "cell_type": "markdown",
      "source": [
        "1. Se procede con la carga de la base de datos"
      ],
      "metadata": {
        "id": "VpRRbBTCflu1"
      }
    },
    {
      "cell_type": "code",
      "source": [
        "#Cargamos la base de datos\n",
        "nxl=\"/content/drive/MyDrive/ANALÍTICA DE NEGOCIOS/2. TechSalesReport_Int_L.xlsx\"\n",
        "XDB=pd.read_excel(nxl, sheet_name=0) #usamos la hoja donde está toda la información\n",
        "XDB.head(100)  #solo muestra 100 datos\n",
        "\n",
        "#Convertimos la variable \"Business\" a valores numéricos\n",
        "XDB[\"Business\"] = XDB[\"Business\"].map({\"Hardware\": 0, \"Software\": 1})\n",
        "\n",
        "#Convertimos la variable \"College\" a valor numérico\n",
        "XDB[\"College\"] = XDB[\"College\"].map({\"No\": 0, \"Yes\": 1})\n",
        "\n",
        "#Se cargan las variables de interés\n",
        "XDB=XDB[[\"Business\",\"Age\",\"Female\",\"Years\", \"College\", \"Certificates\", \"Feedback\", \"Salary\", \"NPS\"]]\n",
        "\n",
        "#Seleccionamos las variables\n",
        "XD=XDB[[\"Business\",\"Age\",\"Female\",\"Years\", \"Certificates\", \"Feedback\", \"Salary\", \"NPS\"]] #Variables de entrada\n",
        "yd=XDB[[\"College\"]] #Variable de salida o referencia\n",
        "XDB\n",
        "\n",
        "#Caracterización de la base de datos\n",
        "#Total de personas\n",
        "total_personas = len(XDB)\n",
        "print(\"Total de personas:\", total_personas)\n",
        "\n",
        "#Número de personas inscritas (College = 1)\n",
        "inscritos = XDB['College'].sum()\n",
        "print(\"Número de personas inscritas:\", inscritos)\n",
        "\n",
        "#Número de personas no inscritas (College = 0)\n",
        "no_inscritos = total_personas - inscritos\n",
        "print(\"Número de personas no inscritas:\", no_inscritos)\n"
      ],
      "metadata": {
        "colab": {
          "base_uri": "https://localhost:8080/"
        },
        "id": "lXinOwK6f0dW",
        "outputId": "2044ab5f-b650-48e1-a694-27c3c4a4b525"
      },
      "execution_count": null,
      "outputs": [
        {
          "output_type": "stream",
          "name": "stdout",
          "text": [
            "Total de personas: 21990\n",
            "Número de personas inscritas: 17520\n",
            "Número de personas no inscritas: 4470\n"
          ]
        }
      ]
    },
    {
      "cell_type": "markdown",
      "source": [
        "2. Se procede a la implementación del modelo\n",
        "\n",
        "*   max_depth = Número de variables disponibles\n",
        "*   gini = criterio que indica el grado de error del modelo en la clasificación de solicitantes"
      ],
      "metadata": {
        "id": "tpXVF1Abn2SI"
      }
    },
    {
      "cell_type": "code",
      "source": [
        "#Se llama al árbol\n",
        "mar=DecisionTreeClassifier(criterion=\"gini\", max_depth=4)\n",
        "mar.fit(XD, yd)\n",
        "\n",
        "#Se procede con el despliegue del árbol\n",
        "from sklearn.tree import export_graphviz #exportar archivo\n",
        "from pydotplus import graph_from_dot_data #Crear el gráfico\n",
        "\n",
        "#Nombramos las variables\n",
        "vs=[\"Business\",\"Age\",\"Female\",\"Years\", \"Certificates\", \"Feedback\", \"Salary\", \"NPS\"] #Etiquetar el árbol (nombrarlo)\n",
        "\n",
        "#Como quiero que me exporte el archivo\n",
        "dot_data=export_graphviz(mar, feature_names=vs) #Exportarlo con los nombres\n",
        "graph=graph_from_dot_data(dot_data) #Crear el gráfico\n",
        "graph.write_png(\"ArbolCollege.png\")"
      ],
      "metadata": {
        "colab": {
          "base_uri": "https://localhost:8080/"
        },
        "id": "tHSFY9_cn-fu",
        "outputId": "4022428e-3690-41b7-a96a-ce387dc37c3c"
      },
      "execution_count": null,
      "outputs": [
        {
          "output_type": "execute_result",
          "data": {
            "text/plain": [
              "True"
            ]
          },
          "metadata": {},
          "execution_count": 3
        }
      ]
    },
    {
      "cell_type": "markdown",
      "source": [
        "3. Desempeño del modelo"
      ],
      "metadata": {
        "id": "6rVBO1Oqp_AO"
      }
    },
    {
      "cell_type": "code",
      "source": [
        "#Matriz de confusión\n",
        "ydp=mar.predict(XD)\n",
        "cm=confusion_matrix(yd, ydp)\n",
        "print(cm)\n",
        "\n",
        "VN=cm[0,0]; FP=cm[0,1]; FN=cm[1,0]; VP=cm[1,1]\n",
        "\n",
        "#Tasa de exactitud\n",
        "Ex=(VN+VP)/(VP+VN+FP+FN) #En cuanto acierta\n",
        "print(\"La exactitud es:\", Ex)\n",
        "\n",
        "#Tasa sensibilidad\n",
        "Sen=VP/(VP+FN) #Como se comportó el modelo con los positivos (con título universitario)\n",
        "print(\"La sensibilidad es:\", Sen)\n",
        "\n",
        "#Tasa especificidad\n",
        "Esp=VN/(VN+FP) #Como se comportó el modelo con los negativos (sin título universitario)\n",
        "print(\"La especificidad es:\", Esp)\n",
        "\n",
        "#Tasa de precisión\n",
        "Pre=VP/(VP+FP) #Cual es el acierto clasificando los positivos\n",
        "print(\"La precisión es:\", Pre)\n",
        "\n",
        "#Tasa de error\n",
        "TE=(FP+FN)/(VP+VN+FP+FN) #En cuanto se equivoca\n",
        "print(\"La tasa de error es:\", TE)\n",
        "\n",
        "#Tasa de precisión negativa\n",
        "PredNeg=VN/(VN+FN) #Como funciona obteniendo los negativos\n",
        "print(\"La precisión negativa es:\", PredNeg)"
      ],
      "metadata": {
        "colab": {
          "base_uri": "https://localhost:8080/"
        },
        "id": "cT0nmKpNqBVS",
        "outputId": "9edfcbe4-e107-487e-e18e-7bb4555a7824"
      },
      "execution_count": null,
      "outputs": [
        {
          "output_type": "stream",
          "name": "stdout",
          "text": [
            "[[  114  4356]\n",
            " [   69 17451]]\n",
            "La exactitud es: 0.7987721691678036\n",
            "La sensibilidad es: 0.9960616438356165\n",
            "La especificidad es: 0.025503355704697986\n",
            "La precisión es: 0.8002476269087908\n",
            "La tasa de error es: 0.20122783083219645\n",
            "La precisión negativa es: 0.6229508196721312\n"
          ]
        }
      ]
    },
    {
      "cell_type": "markdown",
      "source": [
        "4. Realizamos el pronóstico"
      ],
      "metadata": {
        "id": "OUdaIdumqvBE"
      }
    },
    {
      "cell_type": "code",
      "source": [
        "#PRONOSTICO\n",
        "#Tomamos la segunda hoja de pronóstico\n",
        "XDB2=pd.read_excel(nxl, sheet_name=1) #usamos la hoja pronóstico\n",
        "XDB2.head(100)  #solo muestra 100 datos\n",
        "\n",
        "#Eliminamos columna Personality\n",
        "XDB2=XDB2.drop([\"Personality\"], axis=1)\n",
        "\n",
        "#Convertimos la variable \"Business\" a valores numéricos\n",
        "XDB2[\"Business\"] = XDB2[\"Business\"].map({\"Hardware\": 0, \"Software\": 1})\n",
        "\n",
        "#Crear la columna \"College\" con valores NaN\n",
        "XDB2[\"College\"] = np.nan\n",
        "\n",
        "#Se hace el ponóstico de College para estas personas\n",
        "XD2=XDB2[[\"Business\",\"Age\",\"Female\",\"Years\", \"Certificates\", \"Feedback\", \"Salary\", \"NPS\"]]\n",
        "\n",
        "#Se hace el pronóstico para estas personas como tal:\n",
        "ydp2=mar.predict(XD2)\n",
        "print(\"Las predicciones son: \\n\", ydp2)\n",
        "\n",
        "#Asignar las predicciones a la columna \"College\"\n",
        "XDB2[\"College\"] = ydp2\n",
        "\n",
        "#Crear el informe con College\n",
        "dfp = pd.DataFrame(XDB2)\n",
        "\n",
        "#Colocar nombre a columnas\n",
        "dfp.columns=[[\"Sales_Rep\", \"Business\",\"Age\",\"Female\",\"Years\", \"Certificates\", \"Feedback\", \"Salary\", \"NPS\", \"College\"]]\n",
        "dfp.head(10)\n",
        "\n",
        "#Crear un excel descargable\n",
        "dfp.to_excel(\"InformeCollege.xlsx\") #Aparece en la carpeta content\n",
        "dfp.head(10)\n",
        "\n",
        "#Contar cuantos son negativos y cuanto son positivos\n",
        "print(\"Los que no tienen título universitario pronosticado son:\", len(np.where(ydp2==0)[0]))\n",
        "print(\"Los que tienen título universitario pronosticado son:\", len(np.where(ydp2==1)[0]))\n"
      ],
      "metadata": {
        "colab": {
          "base_uri": "https://localhost:8080/"
        },
        "outputId": "d7224d28-c35c-4c1b-d3e1-1feae74a20c4",
        "id": "UFdAS2C9W7w8"
      },
      "execution_count": null,
      "outputs": [
        {
          "output_type": "stream",
          "name": "stdout",
          "text": [
            "Las predicciones son: \n",
            " [1 1 1 1 1 1 1 1 1 1 1 1 1 1 1 1]\n",
            "Los que no tienen título universitario pronosticado son: 0\n",
            "Los que tienen título universitario pronosticado son: 16\n"
          ]
        }
      ]
    },
    {
      "cell_type": "markdown",
      "source": [
        "De acuerdo con los resultados arrojados por el modelo, se pudo corrobar en la plataforma colab el comportamiento del modelo de árboles de decisión de acuerdo con el archivo de excel de referencia acerca del reporte de ventas realizados por una empresa de alta tecnología.\n",
        "\n",
        "# **Descripción de las variables**\n",
        "Para comprender el proceso realizado, primero es importante tener una idea sobre la base de datos con la que se trabajó y sus variables:\n",
        "\n",
        "**\"Business\"** hace referencia al tipo de producto que se vendió por cada empleado, es decir, los productos ofrecidos por la empresa de tecnología, para este caso se contaban con dos opciones, la venta de hardware que fue reemplazado por el número 0 y software que fue reemplazado con el número 1, estos cambios con la finalidad de llevar a cabo de manera exitosa el pronóstico, **\"Age\"** hace referencia a la edad de los empleados, contiene una variedad de números que indican la edad de cada uno que vienen desde el empleado menor con 21 años hasta el mayor con 65 años, en promedio las edades rondan entre los 42 años, **\"Female\"** es una variable que indica el género del empleado, dividido en dos opciones, aquellos con el número 1 son mujeres y aquellos con el número 0 son el caso contrario, es decir, hombres, **\"Years\"** indica el número de años que el empleado ha estado en la empresa, hay empleados que apenas están en su primer año con la empresa, mientras que hay otros que llevan más de 12 años en la misma, **\"Certificates\"** hace referencia al número de certiﬁcaciones profesionales relevantes que ha obtenido cada empleado, encontrándose valores desde 0 (ninguna certificación) hasta 6 certificaciones dentro de la base de datos, **\"Feedback\"** es una variable que indica el puntaje de retroalimentación promedio que cada empleado recibe de sus compañeros y supervisor en la evaluación anual de 360 grados.Las puntuaciones posibles van desde 0 (la más baja) a 4 (la más alta), **\"Salary\"** hace referencia al sueldo base anual de los empleados, en promedio el salario de los empleado es de 73.673, **\"NPS\"** es el puntaje neto del promotor (NPS) es un indicador clave de la satisfacción y lealtad del cliente, es una variable que va desde 1 hasta 10 con el fin de darle un valor a dicha satisfacción. Así mismo, como variable de referencia y para el pronóstico del modelo su usó la variable **\"College\"** la cual indica si el empleado tiene o no un título universitario, en la base de datos original está fue registrado con las palabras \"Yes\" or \"No\" pero para términos del ejercicio se cambiaron a aquellos que NO cuentan con un título universitario (college) se identifican con el número 0 y aquellos que SÍ cuentan con un título universitario (college) con el número 1\n",
        "\n",
        "# **Análisis de resultados**\n",
        "Después de comprender el tipo de base de datos que estamos trabajando, podemos evaluar el modelo y resultados:\n",
        "\n",
        "Los datos del archivo TechSales_Reps contienen registros de 21990 representantes de ventas de los grupos de productos de hardware y software de una empresa de alta tecnología, estos se encuentran distribuidos en 17520 (79,67%) empleados con título univeristario y 4470 (20,32%) sin un título universitario. Para cada empleado, los datos incluyen información sociodemográﬁca y educativa, para realizar el ejercicio se usaron las ocho variables descritas anteriormente.\n",
        "\n",
        "En el modelo de árboles de decisión se puede observar que el modelo alcanzó una exactitud cercana al 80% (79,8%) destacándose el comportamiento del modelo frente a la capacidad que tiene de predecir los empleados que presentan un título universitario (college) con una sensibilidad cercana al 100% (99%). Así mismo, se ve la buena funcionalidad del modelo con una tasa de error del 20%, respaldada por su precisión del 80% que demuestra la buena capacidad predictiva del modelo.\n",
        "\n",
        "Por otro lado, para la realización del pronóstico se uso una hoja diferente de la base de datos que contiene los empleados a evaluar, en total esta hoja cuenta con 16 empleados, de los cuales 0 (0%) NO tienen un título universitario, y 16 (100%) SÍ tienen un título universitario dada las variables evaluadas para lograr el resultado. El árbol de decisión muestra que el salario es la primera división para determinar su nivel educativo (si lo consideramos de arriba hacia abajo), con un Salary ≤ 64,100 que se toma como primer medida para encontrar las reglas del negocio. Otras variables como la edad, la retroalimentación (Feedback) y la cantidad de certificaciones también influyen en el resultado del pronóstico. La falta de divisiones directas para variables como Business, Female o Years sugiere que el modelo no las considera relevantes. Una razón que explica por qué el modelo predijo que las 16 personas en el conjunto de prueba tenían título universitario es su especificidad del 2% indicando que el modelo no es tan bueno pronosticando aquellos empleados sin título universitarios, esto se puede deber a distintas razones que se podrían evaluar a profundidad, pero una posible respuesta es por un sesgo en su entrenamiento. Es posible que en la base de datos exista muchos más empleados con títulos universitarios que sin él lo que podría hacer que el modelo \"aprendiera\" que la mayoría de las personas tienen un título y por tanto, repitiera ese patrón en la predicción.\n",
        "\n",
        "Con lo anterior, podemos tener una idea más clara de como el modelo de Árboles de decisión es aplicado a una base de datos que indica las ventas de una empresa para así tomar decisiones basadas en los resultados obtenidos, que puedan ser precisos y acertados según los datos presentados."
      ],
      "metadata": {
        "id": "FYXUBTCfxX6B"
      }
    }
  ]
}